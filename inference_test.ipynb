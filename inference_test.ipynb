{
 "cells": [
  {
   "cell_type": "code",
   "execution_count": 1,
   "id": "d2122994",
   "metadata": {},
   "outputs": [],
   "source": [
    "import torch\n",
    "import trimesh\n",
    "import numpy as np\n",
    "import skvideo.io\n",
    "import imageio\n",
    "from scipy.interpolate import CubicSpline\n",
    "from munch import *\n",
    "from PIL import Image\n",
    "from tqdm import tqdm\n",
    "from torch.nn import functional as F\n",
    "from torch.utils import data\n",
    "from torchvision import utils\n",
    "from torchvision import transforms\n",
    "from options import BaseOptions\n",
    "from model import Generator\n",
    "from utils import (\n",
    "    generate_camera_params, align_volume, extract_mesh_with_marching_cubes,\n",
    "    xyz2mesh, create_cameras, create_mesh_renderer, add_textures,\n",
    "    )\n",
    "from pytorch3d.structures import Meshes\n",
    "from dataset import color_segmap\n",
    "from pdb import set_trace as st\n",
    "import os"
   ]
  },
  {
   "cell_type": "code",
   "execution_count": 2,
   "id": "b0516d6c",
   "metadata": {},
   "outputs": [
    {
     "name": "stderr",
     "output_type": "stream",
     "text": [
      "usage: ipykernel_launcher.py [-h] [--dataset_path DATASET_PATH] [--config CONFIG] [--expname EXPNAME] [--ckpt CKPT]\n",
      "                             [--continue_training] [--checkpoints_dir CHECKPOINTS_DIR] [--trained_ckpt TRAINED_CKPT]\n",
      "                             [--pretrain_render_path PRETRAIN_RENDER_PATH] [--iter ITER] [--batch BATCH]\n",
      "                             [--chunk CHUNK] [--val_n_sample VAL_N_SAMPLE] [--d_reg_every D_REG_EVERY]\n",
      "                             [--g_reg_every G_REG_EVERY] [--local_rank LOCAL_RANK] [--mixing MIXING] [--lr LR]\n",
      "                             [--Semantic_D_lambda SEMANTIC_D_LAMBDA] [--r1_img R1_IMG] [--r1_seg R1_SEG]\n",
      "                             [--view_lambda VIEW_LAMBDA] [--eikonal_lambda EIKONAL_LAMBDA]\n",
      "                             [--min_surf_lambda MIN_SURF_LAMBDA] [--min_surf_beta MIN_SURF_BETA]\n",
      "                             [--path_regularize PATH_REGULARIZE] [--path_batch_shrink PATH_BATCH_SHRINK] [--wandb]\n",
      "                             [--no_sphere_init] [--results_dir RESULTS_DIR] [--semantics SEMANTICS]\n",
      "                             [--truncation_ratio TRUNCATION_RATIO] [--truncation_mean TRUNCATION_MEAN]\n",
      "                             [--identities IDENTITIES] [--num_views_per_id NUM_VIEWS_PER_ID] [--no_surface_renderings]\n",
      "                             [--fixed_camera_angles] [--azim_video] [--flag FLAG] [--size SIZE]\n",
      "                             [--style_dim STYLE_DIM] [--channel_multiplier CHANNEL_MULTIPLIER] [--n_mlp N_MLP]\n",
      "                             [--lr_mapping LR_MAPPING] [--renderer_spatial_output_dim RENDERER_SPATIAL_OUTPUT_DIM]\n",
      "                             [--project_noise] [--n_wcode N_WCODE] [--uniform] [--azim AZIM] [--elev ELEV] [--fov FOV]\n",
      "                             [--dist_radius DIST_RADIUS] [--n_render N_RENDER] [--depth DEPTH] [--width WIDTH]\n",
      "                             [--no_sdf] [--no_z_normalize] [--static_viewdirs] [--N_samples N_SAMPLES]\n",
      "                             [--no_offset_sampling] [--perturb PERTURB] [--raw_noise_std RAW_NOISE_STD]\n",
      "                             [--force_background] [--return_xyz] [--return_sdf]\n",
      "ipykernel_launcher.py: error: unrecognized arguments: -f C:\\Users\\phdsa\\AppData\\Roaming\\jupyter\\runtime\\kernel-ddbb9175-1c9e-40f4-bdcc-4e147065840b.json\n"
     ]
    }
   ],
   "source": [
    "device = \"cuda\"\n",
    "opt = BaseOptions().parse()\n",
    "opt.model.is_test = True\n",
    "opt.model.style_dim = 256\n",
    "opt.model.freeze_renderer = False\n",
    "opt.rendering.depth = 3\n",
    "opt.rendering.width = 128\n",
    "opt.rendering.no_features_output = False\n",
    "opt.inference.size = opt.model.size\n",
    "opt.inference.camera = opt.camera\n",
    "opt.inference.renderer_output_size = opt.model.renderer_spatial_output_dim\n",
    "opt.inference.style_dim = opt.model.style_dim\n",
    "opt.inference.project_noise = opt.model.project_noise\n",
    "opt.rendering.perturb = 0\n",
    "opt.rendering.force_background = True\n",
    "opt.rendering.static_viewdirs = True\n",
    "opt.rendering.return_sdf = False\n",
    "opt.rendering.return_xyz = True\n",
    "opt.rendering.N_samples = 24\n",
    "opt.rendering.no_features_output = False\n",
    "opt.experiment.ckpt = 25000"
   ]
  },
  {
   "cell_type": "code",
   "execution_count": 3,
   "id": "17b21db8",
   "metadata": {},
   "outputs": [],
   "source": [
    "opt.training.checkpoints_dir = 'checkpoints'"
   ]
  },
  {
   "cell_type": "code",
   "execution_count": 4,
   "id": "e040e5d7",
   "metadata": {},
   "outputs": [],
   "source": [
    "opt.training.trained_ckpt = 'checkpoints/models_0066000.pt'"
   ]
  },
  {
   "cell_type": "code",
   "execution_count": 5,
   "id": "41f819a7",
   "metadata": {},
   "outputs": [],
   "source": [
    "os.makedirs(opt.inference.results_dir, exist_ok=True)\n",
    "checkpoint_path = opt.training.trained_ckpt\n",
    "checkpoint = torch.load(checkpoint_path)"
   ]
  },
  {
   "cell_type": "code",
   "execution_count": 6,
   "id": "acaae0c9",
   "metadata": {},
   "outputs": [
    {
     "name": "stderr",
     "output_type": "stream",
     "text": [
      "C:\\Users\\phdsa\\miniconda3\\envs\\deep\\lib\\site-packages\\torch\\functional.py:504: UserWarning: torch.meshgrid: in an upcoming release, it will be required to pass the indexing argument. (Triggered internally at C:\\actions-runner\\_work\\pytorch\\pytorch\\builder\\windows\\pytorch\\aten\\src\\ATen\\native\\TensorShape.cpp:3484.)\n",
      "  return _VF.meshgrid(tensors, **kwargs)  # type: ignore[attr-defined]\n"
     ]
    }
   ],
   "source": [
    "g_ema = Generator(opt.model, opt.rendering, full_pipeline=False).to(device)"
   ]
  },
  {
   "cell_type": "code",
   "execution_count": 7,
   "id": "e102718f",
   "metadata": {},
   "outputs": [
    {
     "data": {
      "text/plain": [
       "<All keys matched successfully>"
      ]
     },
     "execution_count": 7,
     "metadata": {},
     "output_type": "execute_result"
    }
   ],
   "source": [
    "pretrained_weights_dict = checkpoint[\"g_ema\"]\n",
    "model_dict = g_ema.state_dict()\n",
    "for k, v in pretrained_weights_dict.items():\n",
    "    if v.size() == model_dict[k].size():\n",
    "        model_dict[k] = v\n",
    "g_ema.load_state_dict(model_dict)"
   ]
  },
  {
   "cell_type": "code",
   "execution_count": 8,
   "id": "9ff67596",
   "metadata": {},
   "outputs": [],
   "source": [
    "with torch.no_grad():\n",
    "    mean_latent = g_ema.mean_latent(opt.inference.truncation_mean, device)"
   ]
  },
  {
   "cell_type": "code",
   "execution_count": 10,
   "id": "a36d31cd",
   "metadata": {},
   "outputs": [],
   "source": [
    "semantics = 2"
   ]
  },
  {
   "cell_type": "code",
   "execution_count": 9,
   "id": "0da1a4d0",
   "metadata": {
    "scrolled": true
   },
   "outputs": [
    {
     "data": {
      "text/plain": [
       "Generator(\n",
       "  (style): Sequential(\n",
       "    (0): MappingLinear(256, 256)\n",
       "    (1): MappingLinear(256, 256)\n",
       "    (2): MappingLinear(256, 256)\n",
       "  )\n",
       "  (renderer): VolumeFeatureRenderer(\n",
       "    (network): ModuleList(\n",
       "      (0-11): 12 x SirenGenerator(\n",
       "        (shape_linears): ModuleList(\n",
       "          (0-2): 3 x FiLMSiren(\n",
       "            (gamma): LinearLayer()\n",
       "            (beta): LinearLayer()\n",
       "          )\n",
       "        )\n",
       "        (texture_linears): ModuleList(\n",
       "          (0-1): 2 x FiLMSiren(\n",
       "            (gamma): LinearLayer()\n",
       "            (beta): LinearLayer()\n",
       "          )\n",
       "        )\n",
       "        (mask_linears): LinearLayer()\n",
       "        (feature_linear): LinearLayer()\n",
       "        (rgb_linear): LinearLayer()\n",
       "        (sdf_linear): LinearLayer()\n",
       "      )\n",
       "    )\n",
       "    (init_network): SirenGenerator(\n",
       "      (shape_linears): ModuleList(\n",
       "        (0-2): 3 x FiLMSiren(\n",
       "          (gamma): LinearLayer()\n",
       "          (beta): LinearLayer()\n",
       "        )\n",
       "      )\n",
       "      (texture_linears): ModuleList(\n",
       "        (0-1): 2 x FiLMSiren(\n",
       "          (gamma): LinearLayer()\n",
       "          (beta): LinearLayer()\n",
       "        )\n",
       "      )\n",
       "      (mask_linears): LinearLayer()\n",
       "      (feature_linear): LinearLayer()\n",
       "      (rgb_linear): LinearLayer()\n",
       "      (sdf_linear): LinearLayer()\n",
       "    )\n",
       "  )\n",
       ")"
      ]
     },
     "execution_count": 9,
     "metadata": {},
     "output_type": "execute_result"
    }
   ],
   "source": [
    "g_ema.eval()"
   ]
  },
  {
   "cell_type": "code",
   "execution_count": 10,
   "id": "4bb2b7fe",
   "metadata": {},
   "outputs": [],
   "source": [
    "opt = opt.inference"
   ]
  },
  {
   "cell_type": "code",
   "execution_count": 11,
   "id": "7a5351c9",
   "metadata": {},
   "outputs": [],
   "source": [
    "num_frames = 1\n",
    "trajectory = np.zeros((num_frames,3), dtype=np.float32)\n",
    "\n",
    "t1 = np.linspace(-1.5, 1.5, 10)[3]\n",
    "t2 = 0.8 * np.ones(num_frames)\n",
    "\n",
    "fov = opt.camera.fov\n",
    "elev = opt.camera.elev * t2\n",
    "azim = opt.camera.azim * t1\n",
    "\n",
    "trajectory[:num_frames,0] = azim\n",
    "trajectory[:num_frames,1] = elev\n",
    "trajectory[:num_frames,2] = fov\n",
    "\n",
    "trajectory = torch.from_numpy(trajectory).to(device)\n",
    "\n",
    "sample_cam_extrinsics, sample_focals, sample_near, sample_far, _ = \\\n",
    "generate_camera_params(opt.renderer_output_size, device, locations=trajectory[:,:2],\n",
    "                       fov_ang=trajectory[:,2:], dist_radius=opt.camera.dist_radius)\n",
    "\n",
    "cameras = create_cameras(azim=np.rad2deg(trajectory[0,0].cpu().numpy()),\n",
    "                         elev=np.rad2deg(trajectory[0,1].cpu().numpy()),\n",
    "                         dist=1, device=device)"
   ]
  },
  {
   "cell_type": "code",
   "execution_count": 13,
   "id": "93acd558",
   "metadata": {},
   "outputs": [
    {
     "data": {
      "text/plain": [
       "tensor([[[ 0.9988, -0.0060,  0.0496,  0.0496],\n",
       "         [ 0.0000,  0.9928,  0.1197,  0.1197],\n",
       "         [-0.0500, -0.1196,  0.9916,  0.9916]]], device='cuda:0')"
      ]
     },
     "execution_count": 13,
     "metadata": {},
     "output_type": "execute_result"
    }
   ],
   "source": [
    "sample_cam_extrinsics"
   ]
  },
  {
   "cell_type": "code",
   "execution_count": 12,
   "id": "92c4589a",
   "metadata": {},
   "outputs": [],
   "source": [
    "styles = g_ema.style(torch.randn(1, opt.style_dim, device=device))"
   ]
  },
  {
   "cell_type": "code",
   "execution_count": 13,
   "id": "8aaf3908",
   "metadata": {},
   "outputs": [
    {
     "data": {
      "text/plain": [
       "torch.Size([1, 256])"
      ]
     },
     "execution_count": 13,
     "metadata": {},
     "output_type": "execute_result"
    }
   ],
   "source": [
    "styles.shape"
   ]
  },
  {
   "cell_type": "code",
   "execution_count": 16,
   "id": "37f33e6e",
   "metadata": {},
   "outputs": [
    {
     "data": {
      "text/plain": [
       "tensor(-0.8867, device='cuda:0', grad_fn=<MinBackward1>)"
      ]
     },
     "execution_count": 16,
     "metadata": {},
     "output_type": "execute_result"
    }
   ],
   "source": [
    "torch.min(styles)"
   ]
  },
  {
   "cell_type": "code",
   "execution_count": 24,
   "id": "d9902e94",
   "metadata": {},
   "outputs": [],
   "source": [
    "with torch.no_grad():\n",
    "    direction = styles/torch.norm(styles)"
   ]
  },
  {
   "cell_type": "code",
   "execution_count": 25,
   "id": "bfa039cf",
   "metadata": {},
   "outputs": [],
   "source": [
    "style_mani = styles"
   ]
  },
  {
   "cell_type": "code",
   "execution_count": 26,
   "id": "2d45d617",
   "metadata": {},
   "outputs": [
    {
     "data": {
      "text/plain": [
       "tensor(142.7455, device='cuda:0', grad_fn=<SumBackward0>)"
      ]
     },
     "execution_count": 26,
     "metadata": {},
     "output_type": "execute_result"
    }
   ],
   "source": [
    "torch.sum(style_mani)"
   ]
  },
  {
   "cell_type": "code",
   "execution_count": 134,
   "id": "ae50956a",
   "metadata": {},
   "outputs": [],
   "source": [
    "lambda_val = 12.5\n",
    "styles_change = style_mani + lambda_val*direction\n",
    "style_2 = opt.truncation_ratio * styles_change + (1-opt.truncation_ratio) * mean_latent[0]"
   ]
  },
  {
   "cell_type": "code",
   "execution_count": 14,
   "id": "ac1cb51c",
   "metadata": {},
   "outputs": [],
   "source": [
    "styles = opt.truncation_ratio * styles + (1-opt.truncation_ratio) * mean_latent[0]\n",
    "styles_global = styles"
   ]
  },
  {
   "cell_type": "code",
   "execution_count": 15,
   "id": "7c33bded",
   "metadata": {},
   "outputs": [
    {
     "data": {
      "text/plain": [
       "torch.Size([1, 256])"
      ]
     },
     "execution_count": 15,
     "metadata": {},
     "output_type": "execute_result"
    }
   ],
   "source": [
    "styles.shape"
   ]
  },
  {
   "cell_type": "code",
   "execution_count": 16,
   "id": "ff7b6f22",
   "metadata": {},
   "outputs": [],
   "source": [
    "styles_new = styles.unsqueeze(1).repeat(1, g_ema.n_latent, 1)"
   ]
  },
  {
   "cell_type": "code",
   "execution_count": 17,
   "id": "f99d38a7",
   "metadata": {},
   "outputs": [
    {
     "data": {
      "text/plain": [
       "torch.Size([1, 24, 256])"
      ]
     },
     "execution_count": 17,
     "metadata": {},
     "output_type": "execute_result"
    }
   ],
   "source": [
    "styles_new.size()"
   ]
  },
  {
   "cell_type": "code",
   "execution_count": 239,
   "id": "63ca7fd7",
   "metadata": {},
   "outputs": [],
   "source": [
    "# style_2_n = g_ema.style(torch.randn(1, opt.style_dim, device=device))\n"
   ]
  },
  {
   "cell_type": "code",
   "execution_count": 279,
   "id": "cb3642dc",
   "metadata": {},
   "outputs": [],
   "source": [
    "# style_2 = 0.001 * style_2_n + (1-0.0001) * mean_latent[0]"
   ]
  },
  {
   "cell_type": "code",
   "execution_count": 272,
   "id": "78551ba9",
   "metadata": {
    "scrolled": true
   },
   "outputs": [],
   "source": [
    "# style_2 = 2*style_2"
   ]
  },
  {
   "cell_type": "code",
   "execution_count": 135,
   "id": "0168e735",
   "metadata": {},
   "outputs": [],
   "source": [
    "styles_new_new = styles.unsqueeze(1).repeat(1, g_ema.n_latent, 1)\n",
    "styles_new_new[:,2*8:(2*8+2),:] = style_2"
   ]
  },
  {
   "cell_type": "code",
   "execution_count": 18,
   "id": "33486813",
   "metadata": {},
   "outputs": [
    {
     "name": "stdout",
     "output_type": "stream",
     "text": [
      "feature shape is torch.Size([1, 64, 64, 24, 128])\n",
      "feature shape is torch.Size([1, 64, 64, 24, 128])\n",
      "feature shape is torch.Size([1, 64, 64, 24, 128])\n",
      "feature shape is torch.Size([1, 64, 64, 24, 128])\n",
      "feature shape is torch.Size([1, 64, 64, 24, 128])\n",
      "feature shape is torch.Size([1, 64, 64, 24, 128])\n",
      "feature shape is torch.Size([1, 64, 64, 24, 128])\n",
      "feature shape is torch.Size([1, 64, 64, 24, 128])\n",
      "feature shape is torch.Size([1, 64, 64, 24, 128])\n",
      "feature shape is torch.Size([1, 64, 64, 24, 128])\n",
      "feature shape is torch.Size([1, 64, 64, 24, 128])\n",
      "feature shape is torch.Size([1, 64, 64, 24, 128])\n",
      "raw shape is  torch.Size([12, 1, 64, 64, 24, 133])\n"
     ]
    }
   ],
   "source": [
    "out = g_ema([styles_new],\n",
    "            sample_cam_extrinsics,\n",
    "            sample_focals,\n",
    "            sample_near,\n",
    "            sample_far,\n",
    "            truncation=opt.truncation_ratio,\n",
    "            truncation_latent=mean_latent,\n",
    "            input_is_latent=True,\n",
    "            randomize_noise=False,\n",
    "            project_noise=opt.project_noise,\n",
    "            mesh_path=frontal_marching_cubes_mesh_filename if opt.project_noise else None,\n",
    "            styles_global=[styles_global],\n",
    "            semantics=[8]\n",
    "                            )"
   ]
  },
  {
   "cell_type": "code",
   "execution_count": 136,
   "id": "c9feaac2",
   "metadata": {},
   "outputs": [
    {
     "name": "stdout",
     "output_type": "stream",
     "text": [
      "feature shape is torch.Size([1, 64, 64, 24, 128])\n",
      "feature shape is torch.Size([1, 64, 64, 24, 128])\n",
      "feature shape is torch.Size([1, 64, 64, 24, 128])\n",
      "feature shape is torch.Size([1, 64, 64, 24, 128])\n",
      "feature shape is torch.Size([1, 64, 64, 24, 128])\n",
      "feature shape is torch.Size([1, 64, 64, 24, 128])\n",
      "feature shape is torch.Size([1, 64, 64, 24, 128])\n",
      "feature shape is torch.Size([1, 64, 64, 24, 128])\n",
      "feature shape is torch.Size([1, 64, 64, 24, 128])\n",
      "feature shape is torch.Size([1, 64, 64, 24, 128])\n",
      "feature shape is torch.Size([1, 64, 64, 24, 128])\n",
      "feature shape is torch.Size([1, 64, 64, 24, 128])\n",
      "raw shape is  torch.Size([12, 1, 64, 64, 24, 133])\n"
     ]
    }
   ],
   "source": [
    "out = g_ema([styles_new_new],\n",
    "            sample_cam_extrinsics,\n",
    "            sample_focals,\n",
    "            sample_near,\n",
    "            sample_far,\n",
    "            truncation=opt.truncation_ratio,\n",
    "            truncation_latent=mean_latent,\n",
    "            input_is_latent=True,\n",
    "            randomize_noise=False,\n",
    "            project_noise=opt.project_noise,\n",
    "            mesh_path=frontal_marching_cubes_mesh_filename if opt.project_noise else None,\n",
    "            styles_global=[styles_global],\n",
    "            semantics=[8]\n",
    "                            )"
   ]
  },
  {
   "cell_type": "code",
   "execution_count": 137,
   "id": "05245843",
   "metadata": {},
   "outputs": [],
   "source": [
    "_, img, seg, f, img_sem = out"
   ]
  },
  {
   "cell_type": "code",
   "execution_count": 138,
   "id": "a4301320",
   "metadata": {},
   "outputs": [
    {
     "data": {
      "text/plain": [
       "tensor([[[[-0.0608, -0.3571, -0.6412,  ..., -0.8280, -0.8239, -0.7928],\n",
       "          [-0.2086, -0.6109, -0.6668,  ..., -0.8258, -0.8107, -0.7668],\n",
       "          [-0.4420, -0.7379, -0.6193,  ..., -0.8214, -0.8036, -0.7575],\n",
       "          ...,\n",
       "          [-0.6077, -0.1399,  0.0805,  ..., -0.1208, -0.1518, -0.1812],\n",
       "          [-0.1106,  0.3166,  0.2545,  ..., -0.0727, -0.0953, -0.1215],\n",
       "          [ 0.1784,  0.5204,  0.1652,  ..., -0.0643, -0.0768, -0.1114]],\n",
       "\n",
       "         [[-0.0550, -0.4049, -0.7118,  ..., -0.7775, -0.7742, -0.7457],\n",
       "          [-0.1842, -0.6676, -0.7262,  ..., -0.7720, -0.7531, -0.7081],\n",
       "          [-0.4444, -0.7815, -0.6667,  ..., -0.7699, -0.7442, -0.6898],\n",
       "          ...,\n",
       "          [-0.4294, -0.0971, -0.1877,  ..., -0.2737, -0.2886, -0.2882],\n",
       "          [-0.0186,  0.2396, -0.0964,  ..., -0.2442, -0.2476, -0.2420],\n",
       "          [ 0.1355,  0.3400, -0.2210,  ..., -0.2385, -0.2282, -0.2252]],\n",
       "\n",
       "         [[-0.1426, -0.5315, -0.8037,  ..., -0.8333, -0.8349, -0.8203],\n",
       "          [-0.2587, -0.7539, -0.8088,  ..., -0.8331, -0.8256, -0.8015],\n",
       "          [-0.5072, -0.8391, -0.7563,  ..., -0.8315, -0.8196, -0.7911],\n",
       "          ...,\n",
       "          [-0.3729, -0.1155, -0.2943,  ..., -0.3185, -0.3422, -0.3549],\n",
       "          [-0.0230,  0.1591, -0.2346,  ..., -0.2781, -0.3096, -0.3365],\n",
       "          [ 0.0980,  0.2420, -0.3343,  ..., -0.2008, -0.2359, -0.2789]]]],\n",
       "       device='cuda:0')"
      ]
     },
     "execution_count": 138,
     "metadata": {},
     "output_type": "execute_result"
    }
   ],
   "source": [
    "img"
   ]
  },
  {
   "cell_type": "code",
   "execution_count": 40,
   "id": "13d60526",
   "metadata": {},
   "outputs": [
    {
     "data": {
      "text/plain": [
       "torch.Size([1, 3, 64, 64])"
      ]
     },
     "execution_count": 40,
     "metadata": {},
     "output_type": "execute_result"
    }
   ],
   "source": [
    "img[0:].shape"
   ]
  },
  {
   "cell_type": "code",
   "execution_count": 20,
   "id": "d1c46ca8",
   "metadata": {},
   "outputs": [],
   "source": [
    "img_sem = img_sem.permute(0,3,1,2).contiguous()"
   ]
  },
  {
   "cell_type": "code",
   "execution_count": 21,
   "id": "ca93c863",
   "metadata": {},
   "outputs": [
    {
     "data": {
      "text/plain": [
       "torch.Size([1, 3, 64, 64])"
      ]
     },
     "execution_count": 21,
     "metadata": {},
     "output_type": "execute_result"
    }
   ],
   "source": [
    "img_sem.shape"
   ]
  },
  {
   "cell_type": "code",
   "execution_count": 30,
   "id": "1f7a24cd",
   "metadata": {},
   "outputs": [],
   "source": [
    "img = img*seg[:,7]"
   ]
  },
  {
   "cell_type": "code",
   "execution_count": 139,
   "id": "3a80a206",
   "metadata": {},
   "outputs": [],
   "source": [
    "del out\n",
    "torch.cuda.empty_cache()\n",
    "\n",
    "# img = img.clamp(-1,1) * 127.5 + 127.5\n",
    "# img = img.detach().cpu()\n",
    "img = img.clamp(-1,1) * 0.5 + 0.5\n",
    "img = img.clamp(0, 1)\n",
    "img = img.detach().cpu()\n",
    "seg = color_segmap(seg)\n",
    "seg = seg.detach().cpu()\n",
    "seg = seg/255."
   ]
  },
  {
   "cell_type": "code",
   "execution_count": 73,
   "id": "6ad956f8",
   "metadata": {},
   "outputs": [],
   "source": [
    "utils.save_image(img[0], 'check.png', normalize=True)"
   ]
  },
  {
   "cell_type": "code",
   "execution_count": 69,
   "id": "b3ae106a",
   "metadata": {},
   "outputs": [],
   "source": [
    "utils.save_image(seg[0], 'check_seg.png', normalize=True)"
   ]
  },
  {
   "cell_type": "code",
   "execution_count": 23,
   "id": "2fdbc12b",
   "metadata": {},
   "outputs": [
    {
     "data": {
      "image/png": "[encoded data removed]",
      "text/plain": [
       "<PIL.Image.Image image mode=RGB size=64x64>"
      ]
     },
     "execution_count": 23,
     "metadata": {},
     "output_type": "execute_result"
    }
   ],
   "source": [
    "transforms.functional.to_pil_image(img[0])"
   ]
  },
  {
   "cell_type": "code",
   "execution_count": 47,
   "id": "2cdfea38",
   "metadata": {},
   "outputs": [
    {
     "data": {
      "image/png": "[encoded data removed]",
      "text/plain": [
       "<PIL.Image.Image image mode=RGB size=64x64>"
      ]
     },
     "execution_count": 47,
     "metadata": {},
     "output_type": "execute_result"
    }
   ],
   "source": [
    "transforms.functional.to_pil_image(img[0])"
   ]
  },
  {
   "cell_type": "code",
   "execution_count": 54,
   "id": "d3b5da56",
   "metadata": {},
   "outputs": [
    {
     "data": {
      "image/png": "[encoded data removed]",
      "text/plain": [
       "<PIL.Image.Image image mode=RGB size=64x64>"
      ]
     },
     "execution_count": 54,
     "metadata": {},
     "output_type": "execute_result"
    }
   ],
   "source": [
    "transforms.functional.to_pil_image(img[0])"
   ]
  },
  {
   "cell_type": "code",
   "execution_count": 87,
   "id": "9e53e961",
   "metadata": {},
   "outputs": [
    {
     "data": {
      "image/png": "[encoded data removed]",
      "text/plain": [
       "<PIL.Image.Image image mode=RGB size=64x64>"
      ]
     },
     "execution_count": 87,
     "metadata": {},
     "output_type": "execute_result"
    }
   ],
   "source": [
    "transforms.functional.to_pil_image(img[0])"
   ]
  },
  {
   "cell_type": "code",
   "execution_count": 93,
   "id": "e31c8860",
   "metadata": {},
   "outputs": [
    {
     "data": {
      "image/png": "[encoded data removed]",
      "text/plain": [
       "<PIL.Image.Image image mode=RGB size=64x64>"
      ]
     },
     "execution_count": 93,
     "metadata": {},
     "output_type": "execute_result"
    }
   ],
   "source": [
    "transforms.functional.to_pil_image(img[0])"
   ]
  },
  {
   "cell_type": "code",
   "execution_count": 99,
   "id": "8d591bcc",
   "metadata": {},
   "outputs": [
    {
     "data": {
      "image/png": "[encoded data removed]",
      "text/plain": [
       "<PIL.Image.Image image mode=RGB size=64x64>"
      ]
     },
     "execution_count": 99,
     "metadata": {},
     "output_type": "execute_result"
    }
   ],
   "source": [
    "transforms.functional.to_pil_image(img[0])"
   ]
  },
  {
   "cell_type": "code",
   "execution_count": 118,
   "id": "d82acd6b",
   "metadata": {},
   "outputs": [
    {
     "data": {
      "image/png": "[encoded data removed]",
      "text/plain": [
       "<PIL.Image.Image image mode=RGB size=64x64>"
      ]
     },
     "execution_count": 118,
     "metadata": {},
     "output_type": "execute_result"
    }
   ],
   "source": [
    "transforms.functional.to_pil_image(img[0])"
   ]
  },
  {
   "cell_type": "code",
   "execution_count": 133,
   "id": "acab38a2",
   "metadata": {},
   "outputs": [
    {
     "data": {
      "image/png": "[encoded data removed]",
      "text/plain": [
       "<PIL.Image.Image image mode=RGB size=64x64>"
      ]
     },
     "execution_count": 133,
     "metadata": {},
     "output_type": "execute_result"
    }
   ],
   "source": [
    "transforms.functional.to_pil_image(img[0])"
   ]
  },
  {
   "cell_type": "code",
   "execution_count": 140,
   "id": "a17e4526",
   "metadata": {},
   "outputs": [
    {
     "data": {
      "image/png": "[encoded data removed]",
      "text/plain": [
       "<PIL.Image.Image image mode=RGB size=64x64>"
      ]
     },
     "execution_count": 140,
     "metadata": {},
     "output_type": "execute_result"
    }
   ],
   "source": [
    "transforms.functional.to_pil_image(img[0])"
   ]
  },
  {
   "cell_type": "code",
   "execution_count": 24,
   "id": "2a633bfb",
   "metadata": {},
   "outputs": [],
   "source": [
    "img_sem = img_sem.clamp(-1,1) * 0.5 + 0.5\n",
    "# img = img_seg.clamp(0, 1)\n",
    "img_sem = img_sem.detach().cpu()"
   ]
  },
  {
   "cell_type": "code",
   "execution_count": 61,
   "id": "1845c438",
   "metadata": {},
   "outputs": [],
   "source": [
    "img_sem[img_sem > 0.54] = 1"
   ]
  },
  {
   "cell_type": "code",
   "execution_count": 25,
   "id": "b7d4391e",
   "metadata": {},
   "outputs": [
    {
     "data": {
      "text/plain": [
       "tensor(0.6567)"
      ]
     },
     "execution_count": 25,
     "metadata": {},
     "output_type": "execute_result"
    }
   ],
   "source": [
    "torch.max(img_sem)"
   ]
  },
  {
   "cell_type": "code",
   "execution_count": 26,
   "id": "2b27bef9",
   "metadata": {},
   "outputs": [
    {
     "data": {
      "image/png": "[encoded data removed]",
      "text/plain": [
       "<PIL.Image.Image image mode=RGB size=64x64>"
      ]
     },
     "execution_count": 26,
     "metadata": {},
     "output_type": "execute_result"
    }
   ],
   "source": [
    "transforms.functional.to_pil_image(img_sem[0])"
   ]
  },
  {
   "cell_type": "code",
   "execution_count": 197,
   "id": "d72438ce",
   "metadata": {},
   "outputs": [
    {
     "data": {
      "image/png": "[encoded data removed]",
      "text/plain": [
       "<PIL.Image.Image image mode=RGB size=64x64>"
      ]
     },
     "execution_count": 197,
     "metadata": {},
     "output_type": "execute_result"
    }
   ],
   "source": [
    "#9 is the mouth\n",
    "transforms.functional.to_pil_image(img[0])"
   ]
  },
  {
   "cell_type": "code",
   "execution_count": null,
   "id": "1fb8a321",
   "metadata": {},
   "outputs": [],
   "source": []
  },
  {
   "cell_type": "code",
   "execution_count": 136,
   "id": "9bc9e6ef",
   "metadata": {},
   "outputs": [
    {
     "data": {
      "image/png": "[encoded data removed]",
      "text/plain": [
       "<PIL.Image.Image image mode=RGB size=64x64>"
      ]
     },
     "execution_count": 136,
     "metadata": {},
     "output_type": "execute_result"
    }
   ],
   "source": [
    "transforms.functional.to_pil_image(seg[0])"
   ]
  }
 ],
 "metadata": {
  "kernelspec": {
   "display_name": "Python 3 (ipykernel)",
   "language": "python",
   "name": "python3"
  },
  "language_info": {
   "codemirror_mode": {
    "name": "ipython",
    "version": 3
   },
   "file_extension": ".py",
   "mimetype": "text/x-python",
   "name": "python",
   "nbconvert_exporter": "python",
   "pygments_lexer": "ipython3",
   "version": "3.8.13"
  }
 },
 "nbformat": 4,
 "nbformat_minor": 5
}
